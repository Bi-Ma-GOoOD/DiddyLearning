{
 "cells": [
  {
   "cell_type": "code",
   "execution_count": 1,
   "metadata": {},
   "outputs": [
    {
     "name": "stdout",
     "output_type": "stream",
     "text": [
      "Dataset preparation complete!\n"
     ]
    }
   ],
   "source": [
    "import os\n",
    "import re\n",
    "import shutil\n",
    "import random\n",
    "from PIL import Image\n",
    "\n",
    "# Paths (UPDATE THESE)\n",
    "image_dir = \"../yolo_dataset/04_bounding_box_expert\"  # Update to where your .tif images are\n",
    "dataset_dir = \"../yolo_dataset\"\n",
    "train_ratio = 0.8  # 80% training, 20% validation\n",
    "\n",
    "# Create YOLO directories\n",
    "train_img_dir = os.path.join(dataset_dir, \"images/train\")\n",
    "val_img_dir = os.path.join(dataset_dir, \"images/val\")\n",
    "train_lbl_dir = os.path.join(dataset_dir, \"labels/train\")\n",
    "val_lbl_dir = os.path.join(dataset_dir, \"labels/val\")\n",
    "\n",
    "for d in [train_img_dir, val_img_dir, train_lbl_dir, val_lbl_dir]:\n",
    "    os.makedirs(d, exist_ok=True)\n",
    "\n",
    "# Regex to extract bounding boxes from filenames\n",
    "pattern = re.compile(r\"\\[(\\d+), (\\d+), (\\d+), (\\d+)\\]\")\n",
    "\n",
    "# Get all images\n",
    "image_files = [f for f in os.listdir(image_dir) if f.endswith(\".tif\")]\n",
    "random.shuffle(image_files)  # Shuffle dataset\n",
    "\n",
    "# Split dataset\n",
    "train_count = int(len(image_files) * train_ratio)\n",
    "train_files = image_files[:train_count]\n",
    "val_files = image_files[train_count:]\n",
    "\n",
    "# Function to process files\n",
    "def process_images(image_files, img_dest, lbl_dest):\n",
    "    for filename in image_files:\n",
    "        match = pattern.search(filename)\n",
    "        if not match:\n",
    "            print(f\"Skipping {filename}, no bounding box found.\")\n",
    "            continue\n",
    "\n",
    "        # Extract bounding box\n",
    "        xmin, ymin, xmax, ymax = map(int, match.groups())\n",
    "\n",
    "        # Load image to get dimensions\n",
    "        img_path = os.path.join(image_dir, filename)\n",
    "        with Image.open(img_path) as img:\n",
    "            img_width, img_height = img.size\n",
    "\n",
    "        # Convert to YOLO format\n",
    "        x_center = ((xmin + xmax) / 2) / img_width\n",
    "        y_center = ((ymin + ymax) / 2) / img_height\n",
    "        width = (xmax - xmin) / img_width\n",
    "        height = (ymax - ymin) / img_height\n",
    "\n",
    "        # Save label\n",
    "        label_filename = os.path.splitext(filename)[0] + \".txt\"\n",
    "        label_path = os.path.join(lbl_dest, label_filename)\n",
    "        with open(label_path, \"w\") as f:\n",
    "            f.write(f\"0 {x_center:.6f} {y_center:.6f} {width:.6f} {height:.6f}\\n\")\n",
    "\n",
    "        # Move image\n",
    "        shutil.copy(img_path, os.path.join(img_dest, filename))\n",
    "\n",
    "# Process train & val sets\n",
    "process_images(train_files, train_img_dir, train_lbl_dir)\n",
    "process_images(val_files, val_img_dir, val_lbl_dir)\n",
    "\n",
    "print(\"Dataset preparation complete!\")\n"
   ]
  }
 ],
 "metadata": {
  "kernelspec": {
   "display_name": "dl_env",
   "language": "python",
   "name": "python3"
  },
  "language_info": {
   "codemirror_mode": {
    "name": "ipython",
    "version": 3
   },
   "file_extension": ".py",
   "mimetype": "text/x-python",
   "name": "python",
   "nbconvert_exporter": "python",
   "pygments_lexer": "ipython3",
   "version": "3.10.16"
  }
 },
 "nbformat": 4,
 "nbformat_minor": 2
}
